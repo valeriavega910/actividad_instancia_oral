{
 "cells": [
  {
   "cell_type": "code",
   "execution_count": 1,
   "metadata": {},
   "outputs": [],
   "source": [
    "# Comienzo a crear los objetos \"tarea\" mediante la definicion de clases con sus argumentos , primeramente una clase general luego otras que van heredando\n",
    "# los argumentos de la clase Base, TareaGeneral. La ultima clase posee una herencia de otra clase que tiene herencia Base.\n",
    "# defino los metodos para imprimir la información de cada objeto(tarea)\n",
    "class TareaGeneral:\n",
    "    def __init__(self,nombre,descripcion,prioridad):\n",
    "        self.nombre = nombre\n",
    "        self.descripcion = descripcion\n",
    "        self.prioridad = prioridad\n",
    "    def tarea1(self):\n",
    "        print(f\"Tarea 1: {self.nombre}, descripción: {self.descripcion}, prioridad: {self.prioridad}.\")\n",
    "    \n",
    "class TareaConFecha(TareaGeneral):\n",
    "    def __init__(self,nombre,descripcion,prioridad,fecha):\n",
    "        super().__init__(nombre,descripcion,prioridad)\n",
    "        self.fecha = fecha\n",
    "    def tarea2(self):\n",
    "        print(f\"Tarea 2: {self.nombre}, descripción: {self.descripcion}, prioridad: {self.prioridad}, fecha: {self.fecha}.\")\n",
    "\n",
    "class TareaFinal(TareaConFecha):\n",
    "    def __init__(self,nombre,descripcion,prioridad,fecha,estado):\n",
    "        super().__init__(nombre,descripcion,prioridad,fecha)\n",
    "        self.estado = estado\n",
    "    def tarea3(self):\n",
    "        print(f\"Tarea 3: {self.nombre}, descripción: {self.descripcion}, prioridad {self.prioridad}, fecha: {self.fecha}, estado: {self.estado}.\")"
   ]
  },
  {
   "cell_type": "code",
   "execution_count": 2,
   "metadata": {},
   "outputs": [
    {
     "name": "stdout",
     "output_type": "stream",
     "text": [
      "Tarea 1: pintar, descripción: cubrir con pintura latex 2 capas, prioridad: media.\n",
      "Tarea 2: limpieza, descripción: quitar manchas de pintura y baldear con agua los pisos, prioridad: alta, fecha: 1/07/2024.\n",
      "Tarea 3: iluminacion, descripción: colocacion de luminarias, prioridad alta, fecha: 3/07/2024, estado: Activa.\n"
     ]
    }
   ],
   "source": [
    "# Se crean variables para contener la información de los argumentos en las 3 tareas\n",
    "\n",
    "pintar=TareaGeneral(\"pintar\",\"cubrir con pintura latex 2 capas\",\"media\")\n",
    "pintar.tarea1()\n",
    "limpieza=TareaConFecha(\"limpieza\",\"quitar manchas de pintura y baldear con agua los pisos\",\"alta\",\"1/07/2024\")\n",
    "limpieza.tarea2()\n",
    "iluminacion=TareaFinal(\"iluminacion\",\"colocacion de luminarias\",\"alta\",\"3/07/2024\",\"Activa\")\n",
    "iluminacion.tarea3()\n"
   ]
  },
  {
   "cell_type": "code",
   "execution_count": 3,
   "metadata": {},
   "outputs": [
    {
     "name": "stdout",
     "output_type": "stream",
     "text": [
      "['pintar', 'cubrir con pintura latex 2 capas', 'media']\n",
      "['limpieza', 'quitar manchas de pintura y baldear con agua los pisos', 'alta', '1/07/2024']\n",
      "['iluminacion', 'colocacion de luminarias', 'alta', '3/07/2024', 'Activa']\n"
     ]
    }
   ],
   "source": [
    "# Se crean uno a uno las listas de tareas\n",
    "tarea1=[pintar.nombre,pintar.descripcion,pintar.prioridad]\n",
    "print(tarea1)\n",
    "tarea2=[limpieza.nombre,limpieza.descripcion,limpieza.prioridad,limpieza.fecha]\n",
    "print(tarea2)\n",
    "tarea3=[iluminacion.nombre,iluminacion.descripcion,iluminacion.prioridad,iluminacion.fecha,iluminacion.estado]\n",
    "print(tarea3)"
   ]
  },
  {
   "cell_type": "code",
   "execution_count": 4,
   "metadata": {},
   "outputs": [
    {
     "name": "stdout",
     "output_type": "stream",
     "text": [
      "[['pintar', 'cubrir con pintura latex 2 capas', 'media']]\n",
      "[['pintar', 'cubrir con pintura latex 2 capas', 'media'], ['limpieza', 'quitar manchas de pintura y baldear con agua los pisos', 'alta', '1/07/2024']]\n",
      "[['pintar', 'cubrir con pintura latex 2 capas', 'media'], ['limpieza', 'quitar manchas de pintura y baldear con agua los pisos', 'alta', '1/07/2024'], ['iluminacion', 'colocacion de luminarias', 'alta', '3/07/2024', 'Activa']]\n"
     ]
    }
   ],
   "source": [
    "# Finalmente se crea una lista, que contendrá los elementos tareas, para aplicar las funciones de agregar y borrar tareas.\n",
    "\n",
    "mi_lista = []\n",
    "mi_lista.append(tarea1)\n",
    "print(mi_lista)\n",
    "mi_lista.append(tarea2)\n",
    "print(mi_lista)\n",
    "mi_lista.append(tarea3)\n",
    "print(mi_lista)"
   ]
  },
  {
   "cell_type": "code",
   "execution_count": 5,
   "metadata": {},
   "outputs": [
    {
     "name": "stdout",
     "output_type": "stream",
     "text": [
      "[['limpieza', 'quitar manchas de pintura y baldear con agua los pisos', 'alta', '1/07/2024'], ['iluminacion', 'colocacion de luminarias', 'alta', '3/07/2024', 'Activa']]\n"
     ]
    }
   ],
   "source": [
    "# Elimino el índice 0 de la lista con la funcion remove() , seria la tarea 1 , por lo tanto desaparece ese elemento de la lista. \n",
    "\n",
    "mi_lista.remove(tarea1)\n",
    "print(mi_lista)"
   ]
  },
  {
   "cell_type": "code",
   "execution_count": 6,
   "metadata": {},
   "outputs": [
    {
     "name": "stdout",
     "output_type": "stream",
     "text": [
      "[['limpieza', 'quitar manchas de pintura y baldear con agua los pisos', 'alta', '1/07/2024']]\n"
     ]
    }
   ],
   "source": [
    "# Elimino índice 1 de la lista con la funcion pop() , seria la tarea 3 , por lo tanto desaparece ese elemento de la lista. \n",
    "\n",
    "mi_lista.pop(1)\n",
    "print(mi_lista)"
   ]
  },
  {
   "cell_type": "code",
   "execution_count": 7,
   "metadata": {},
   "outputs": [
    {
     "name": "stdout",
     "output_type": "stream",
     "text": [
      "[]\n"
     ]
    }
   ],
   "source": [
    "# Con la funcion pop(), sin indicar indice, elimino el ultimo elemento de la lista, quedando vacia.\n",
    "\n",
    "mi_lista.pop()\n",
    "print(mi_lista)"
   ]
  }
 ],
 "metadata": {
  "kernelspec": {
   "display_name": "Python 3",
   "language": "python",
   "name": "python3"
  },
  "language_info": {
   "codemirror_mode": {
    "name": "ipython",
    "version": 3
   },
   "file_extension": ".py",
   "mimetype": "text/x-python",
   "name": "python",
   "nbconvert_exporter": "python",
   "pygments_lexer": "ipython3",
   "version": "3.11.4"
  }
 },
 "nbformat": 4,
 "nbformat_minor": 2
}
