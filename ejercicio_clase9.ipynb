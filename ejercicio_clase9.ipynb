{
 "cells": [
  {
   "cell_type": "code",
   "execution_count": 54,
   "metadata": {},
   "outputs": [],
   "source": [
    "# Comienzo a crear los objetos \"tarea\" mediante la definicion de clases con sus argumentos , \n",
    "#  primeramente una clase general luego otras que van heredando atributos.\n",
    "# utilizo str__(selt) es un método especial que define cómo se debe representar una instancia de la clase como una \n",
    "# cadena de texto cuando se imprime incluye los detalles de la tarea.\n",
    "# el if hasattr(self, 'fecha') verifica si la instancia tiene un atributo llamado ‘fecha’. Si es así, añade la fecha \n",
    "# a la cadena de detalles y lo mismo con el atributo estado.\n",
    "\n",
    "class TareaGeneral:\n",
    "    def __init__(self,nombre,descripcion,prioridad):\n",
    "        self.nombre = nombre\n",
    "        self.descripcion = descripcion\n",
    "        self.prioridad = prioridad\n",
    "    def __str__(self):\n",
    "        detalles = f\"Tarea: {self.nombre}, descripción: {self.descripcion}, prioridad: {self.prioridad}\"\n",
    "        if hasattr(self, 'fecha'):\n",
    "            detalles += f\", fecha: {self.fecha}\"\n",
    "        if hasattr(self, 'estado'):\n",
    "            detalles += f\", estado: {self.estado}\"\n",
    "        return detalles\n",
    "    \n",
    "class TareaConFecha(TareaGeneral):\n",
    "    def __init__(self,nombre,descripcion,prioridad,fecha):\n",
    "        super().__init__(nombre,descripcion,prioridad)\n",
    "        self.fecha = fecha\n",
    "\n",
    "class TareaFinal(TareaConFecha):\n",
    "    def __init__(self,nombre,descripcion,prioridad,fecha,estado):\n",
    "        super().__init__(nombre,descripcion,prioridad,fecha)\n",
    "        self.estado = estado\n",
    "    "
   ]
  },
  {
   "cell_type": "code",
   "execution_count": 55,
   "metadata": {},
   "outputs": [],
   "source": [
    "# Crear objetos tarea\n",
    "\n",
    "pintar=TareaGeneral(\"pintar\",\"cubrir con pintura latex 2 capas\",\"media\")\n",
    "limpieza=TareaConFecha(\"limpieza\",\"quitar manchas de pintura y baldear con agua los pisos\",\"alta\",\"1/07/2024\")\n",
    "iluminacion=TareaFinal(\"iluminacion\",\"colocacion de luminarias\",\"alta\",\"3/07/2024\",\"Activa\")\n"
   ]
  },
  {
   "cell_type": "code",
   "execution_count": 56,
   "metadata": {},
   "outputs": [
    {
     "name": "stdout",
     "output_type": "stream",
     "text": [
      "Tarea: pintar, descripción: cubrir con pintura latex 2 capas, prioridad: media\n",
      "Tarea: limpieza, descripción: quitar manchas de pintura y baldear con agua los pisos, prioridad: alta, fecha: 1/07/2024\n",
      "Tarea: iluminacion, descripción: colocacion de luminarias, prioridad: alta, fecha: 3/07/2024, estado: Activa\n"
     ]
    }
   ],
   "source": [
    "# Crear lista de tareas\n",
    "mi_lista = [pintar, limpieza, iluminacion]\n",
    "for tarea in mi_lista:\n",
    "    print(tarea)                            # Imprimirá los detalles de cada tarea"
   ]
  },
  {
   "cell_type": "code",
   "execution_count": 57,
   "metadata": {},
   "outputs": [
    {
     "name": "stdout",
     "output_type": "stream",
     "text": [
      "Tarea: limpieza, descripción: quitar manchas de pintura y baldear con agua los pisos, prioridad: alta, fecha: 1/07/2024\n",
      "Tarea: iluminacion, descripción: colocacion de luminarias, prioridad: alta, fecha: 3/07/2024, estado: Activa\n"
     ]
    }
   ],
   "source": [
    "# Elimina la tarea en el índice 0 (pintar) y muestra los elementoque que quedaron en la lista\n",
    "mi_lista.pop(0)\n",
    "for tarea in mi_lista:\n",
    "    print(tarea)"
   ]
  },
  {
   "cell_type": "code",
   "execution_count": 58,
   "metadata": {},
   "outputs": [
    {
     "name": "stdout",
     "output_type": "stream",
     "text": [
      "Tarea: iluminacion, descripción: colocacion de luminarias, prioridad: alta, fecha: 3/07/2024, estado: Activa\n"
     ]
    }
   ],
   "source": [
    "mi_lista.remove(limpieza)\n",
    "for tarea in mi_lista:\n",
    "    print(tarea)"
   ]
  },
  {
   "cell_type": "code",
   "execution_count": 59,
   "metadata": {},
   "outputs": [
    {
     "name": "stdout",
     "output_type": "stream",
     "text": [
      "[]\n"
     ]
    }
   ],
   "source": [
    "mi_lista.pop()          # Elimina la última tarea restante\n",
    "print(mi_lista)         # La lista ahora está vacía."
   ]
  }
 ],
 "metadata": {
  "kernelspec": {
   "display_name": "Python 3",
   "language": "python",
   "name": "python3"
  },
  "language_info": {
   "codemirror_mode": {
    "name": "ipython",
    "version": 3
   },
   "file_extension": ".py",
   "mimetype": "text/x-python",
   "name": "python",
   "nbconvert_exporter": "python",
   "pygments_lexer": "ipython3",
   "version": "3.11.4"
  }
 },
 "nbformat": 4,
 "nbformat_minor": 2
}
